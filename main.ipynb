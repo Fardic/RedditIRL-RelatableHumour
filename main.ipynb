{
 "cells": [
  {
   "cell_type": "code",
   "execution_count": 1,
   "metadata": {},
   "outputs": [],
   "source": [
    "import numpy as np\n",
    "from pyspark.sql import SparkSession"
   ]
  },
  {
   "cell_type": "code",
   "execution_count": 3,
   "metadata": {},
   "outputs": [],
   "source": [
    "spark = SparkSession.builder.appName(\"nlp\").getOrCreate()"
   ]
  },
  {
   "cell_type": "markdown",
   "metadata": {},
   "source": [
    "## Tokenizer"
   ]
  },
  {
   "cell_type": "code",
   "execution_count": 4,
   "metadata": {},
   "outputs": [],
   "source": [
    "from pyspark.ml.feature import Tokenizer, RegexTokenizer\n",
    "from pyspark.sql.functions import col, udf\n",
    "from pyspark.sql.types import IntegerType"
   ]
  },
  {
   "cell_type": "code",
   "execution_count": 15,
   "metadata": {},
   "outputs": [],
   "source": [
    "sent_df = spark.createDataFrame(\n",
    "    [\n",
    "        (0, \"Hello there general kenobi.\"),\n",
    "        (1, \"I enjoy my good fellas.\"),\n",
    "        (2, \"I would like to be happier.\"),\n",
    "        (3, \"here,is,a,list,of,words\")\n",
    "    ],\n",
    "    [\"id\", \"sentence\"]\n",
    ")"
   ]
  },
  {
   "cell_type": "code",
   "execution_count": 16,
   "metadata": {},
   "outputs": [
    {
     "name": "stdout",
     "output_type": "stream",
     "text": [
      "+---+--------------------+\n",
      "| id|            sentence|\n",
      "+---+--------------------+\n",
      "|  0|Hello there gener...|\n",
      "|  1|I enjoy my good f...|\n",
      "|  2|I would like to b...|\n",
      "|  3|here,is,a,list,of...|\n",
      "+---+--------------------+\n",
      "\n"
     ]
    }
   ],
   "source": [
    "sent_df.show()"
   ]
  },
  {
   "cell_type": "code",
   "execution_count": 17,
   "metadata": {},
   "outputs": [],
   "source": [
    "tokenizer = Tokenizer(inputCol=\"sentence\", outputCol=\"words\")\n",
    "\n",
    "regextokenizer = RegexTokenizer(inputCol=\"sentence\", outputCol=\"words\", pattern=\"\\\\W\")\n",
    "\n",
    "countTokens = udf(lambda w: len(w), IntegerType())"
   ]
  },
  {
   "cell_type": "code",
   "execution_count": 18,
   "metadata": {},
   "outputs": [],
   "source": [
    "tokenized = tokenizer.transform(sent_df)"
   ]
  },
  {
   "cell_type": "code",
   "execution_count": 19,
   "metadata": {},
   "outputs": [
    {
     "name": "stdout",
     "output_type": "stream",
     "text": [
      "+---+--------------------+--------------------+\n",
      "| id|            sentence|               words|\n",
      "+---+--------------------+--------------------+\n",
      "|  0|Hello there gener...|[hello, there, ge...|\n",
      "|  1|I enjoy my good f...|[i, enjoy, my, go...|\n",
      "|  2|I would like to b...|[i, would, like, ...|\n",
      "|  3|here,is,a,list,of...|[here,is,a,list,o...|\n",
      "+---+--------------------+--------------------+\n",
      "\n"
     ]
    }
   ],
   "source": [
    "tokenized.show()"
   ]
  },
  {
   "cell_type": "code",
   "execution_count": 20,
   "metadata": {},
   "outputs": [
    {
     "name": "stdout",
     "output_type": "stream",
     "text": [
      "+--------------------+--------------------+------+\n",
      "|            sentence|               words|tokens|\n",
      "+--------------------+--------------------+------+\n",
      "|Hello there gener...|[hello, there, ge...|     4|\n",
      "|I enjoy my good f...|[i, enjoy, my, go...|     5|\n",
      "|I would like to b...|[i, would, like, ...|     6|\n",
      "|here,is,a,list,of...|[here,is,a,list,o...|     1|\n",
      "+--------------------+--------------------+------+\n",
      "\n"
     ]
    }
   ],
   "source": [
    "tokenized.select(\"sentence\", \"words\").withColumn(\"tokens\", countTokens(col(\"words\"))).show()"
   ]
  },
  {
   "cell_type": "code",
   "execution_count": 21,
   "metadata": {},
   "outputs": [
    {
     "name": "stdout",
     "output_type": "stream",
     "text": [
      "+--------------------+--------------------+------+\n",
      "|            sentence|               words|tokens|\n",
      "+--------------------+--------------------+------+\n",
      "|Hello there gener...|[hello, there, ge...|     4|\n",
      "|I enjoy my good f...|[i, enjoy, my, go...|     5|\n",
      "|I would like to b...|[i, would, like, ...|     6|\n",
      "|here,is,a,list,of...|[here, is, a, lis...|     6|\n",
      "+--------------------+--------------------+------+\n",
      "\n"
     ]
    }
   ],
   "source": [
    "regextokenized = regextokenizer.transform(sent_df)\n",
    "regextokenized.select(\"sentence\", \"words\").withColumn(\"tokens\", countTokens(col(\"words\"))).show()"
   ]
  },
  {
   "cell_type": "code",
   "execution_count": 26,
   "metadata": {},
   "outputs": [],
   "source": [
    "sent_df_token = regextokenized.select(\"sentence\", \"words\").withColumn(\"tokens\", countTokens(col(\"words\")))"
   ]
  },
  {
   "cell_type": "markdown",
   "metadata": {},
   "source": [
    "## Stop Word Removal"
   ]
  },
  {
   "cell_type": "code",
   "execution_count": 22,
   "metadata": {},
   "outputs": [],
   "source": [
    "from pyspark.ml.feature import StopWordsRemover"
   ]
  },
  {
   "cell_type": "code",
   "execution_count": 23,
   "metadata": {},
   "outputs": [
    {
     "name": "stdout",
     "output_type": "stream",
     "text": [
      "+---+---------------------------+\n",
      "|id |sentence                   |\n",
      "+---+---------------------------+\n",
      "|0  |Hello there general kenobi.|\n",
      "|1  |I enjoy my good fellas.    |\n",
      "|2  |I would like to be happier.|\n",
      "|3  |here,is,a,list,of,words    |\n",
      "+---+---------------------------+\n",
      "\n"
     ]
    }
   ],
   "source": [
    "sent_df.show(truncate=False)"
   ]
  },
  {
   "cell_type": "code",
   "execution_count": 27,
   "metadata": {},
   "outputs": [],
   "source": [
    "remover = StopWordsRemover(inputCol=\"words\", outputCol=\"cleaned\")"
   ]
  },
  {
   "cell_type": "code",
   "execution_count": 28,
   "metadata": {},
   "outputs": [
    {
     "name": "stdout",
     "output_type": "stream",
     "text": [
      "+---------------------------+---------------------------------+------+------------------------+\n",
      "|sentence                   |words                            |tokens|cleaned                 |\n",
      "+---------------------------+---------------------------------+------+------------------------+\n",
      "|Hello there general kenobi.|[hello, there, general, kenobi]  |4     |[hello, general, kenobi]|\n",
      "|I enjoy my good fellas.    |[i, enjoy, my, good, fellas]     |5     |[enjoy, good, fellas]   |\n",
      "|I would like to be happier.|[i, would, like, to, be, happier]|6     |[like, happier]         |\n",
      "|here,is,a,list,of,words    |[here, is, a, list, of, words]   |6     |[list, words]           |\n",
      "+---------------------------+---------------------------------+------+------------------------+\n",
      "\n"
     ]
    }
   ],
   "source": [
    "remover.transform(sent_df_token).show(truncate=False)"
   ]
  },
  {
   "cell_type": "markdown",
   "metadata": {},
   "source": [
    "## N-grams"
   ]
  },
  {
   "cell_type": "code",
   "execution_count": 29,
   "metadata": {},
   "outputs": [],
   "source": [
    "from pyspark.ml.feature import NGram"
   ]
  },
  {
   "cell_type": "code",
   "execution_count": 32,
   "metadata": {},
   "outputs": [
    {
     "name": "stdout",
     "output_type": "stream",
     "text": [
      "+---------------------------+---------------------------------+------+\n",
      "|sentence                   |words                            |tokens|\n",
      "+---------------------------+---------------------------------+------+\n",
      "|Hello there general kenobi.|[hello, there, general, kenobi]  |4     |\n",
      "|I enjoy my good fellas.    |[i, enjoy, my, good, fellas]     |5     |\n",
      "|I would like to be happier.|[i, would, like, to, be, happier]|6     |\n",
      "|here,is,a,list,of,words    |[here, is, a, list, of, words]   |6     |\n",
      "+---------------------------+---------------------------------+------+\n",
      "\n"
     ]
    }
   ],
   "source": [
    "sent_df_token.show(truncate=False)"
   ]
  },
  {
   "cell_type": "code",
   "execution_count": 33,
   "metadata": {},
   "outputs": [],
   "source": [
    "bigrams = NGram(n=2, inputCol=\"words\", outputCol=\"bigrams\")"
   ]
  },
  {
   "cell_type": "code",
   "execution_count": 34,
   "metadata": {},
   "outputs": [],
   "source": [
    "bigrams_df = bigrams.transform(sent_df_token)"
   ]
  },
  {
   "cell_type": "code",
   "execution_count": 35,
   "metadata": {},
   "outputs": [
    {
     "name": "stdout",
     "output_type": "stream",
     "text": [
      "+-------------------------------------------------+\n",
      "|bigrams                                          |\n",
      "+-------------------------------------------------+\n",
      "|[hello there, there general, general kenobi]     |\n",
      "|[i enjoy, enjoy my, my good, good fellas]        |\n",
      "|[i would, would like, like to, to be, be happier]|\n",
      "|[here is, is a, a list, list of, of words]       |\n",
      "+-------------------------------------------------+\n",
      "\n"
     ]
    }
   ],
   "source": [
    "bigrams_df.select(\"bigrams\").show(truncate=False)"
   ]
  },
  {
   "cell_type": "markdown",
   "metadata": {},
   "source": [
    "## Term Freq-Inverse Doc Freq (TFIDF)"
   ]
  },
  {
   "cell_type": "code",
   "execution_count": null,
   "metadata": {},
   "outputs": [],
   "source": []
  }
 ],
 "metadata": {
  "interpreter": {
   "hash": "d0f15973c0f440876f4ce1293071deb35cc5637c28f8ed9056df89c70327c21a"
  },
  "kernelspec": {
   "display_name": "Python 3.9.12 ('SparkEnv')",
   "language": "python",
   "name": "python3"
  },
  "language_info": {
   "codemirror_mode": {
    "name": "ipython",
    "version": 3
   },
   "file_extension": ".py",
   "mimetype": "text/x-python",
   "name": "python",
   "nbconvert_exporter": "python",
   "pygments_lexer": "ipython3",
   "version": "3.9.12"
  },
  "orig_nbformat": 4
 },
 "nbformat": 4,
 "nbformat_minor": 2
}
